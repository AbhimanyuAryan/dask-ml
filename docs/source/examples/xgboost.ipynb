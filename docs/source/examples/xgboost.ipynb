{
 "cells": [
  {
   "cell_type": "markdown",
   "metadata": {},
   "source": [
    "# Dask and XGBoost"
   ]
  },
  {
   "cell_type": "code",
   "execution_count": 1,
   "metadata": {
    "collapsed": true,
    "nbsphinx": "hidden"
   },
   "outputs": [],
   "source": [
    "%matplotlib inline"
   ]
  },
  {
   "cell_type": "markdown",
   "metadata": {},
   "source": [
    "The `dask-xgboost` library provides a small wrapper around `dask-xgboost` for passing dask objects to `xgboost`."
   ]
  },
  {
   "cell_type": "code",
   "execution_count": 2,
   "metadata": {
    "collapsed": true,
    "nbsphinx": "hidden"
   },
   "outputs": [],
   "source": [
    "import os\n",
    "import requests\n",
    "import pandas as pd\n",
    "import dask.dataframe as dd\n",
    "\n",
    "\n",
    "if not os.path.exists(\"SUSY.csv.gz\"):\n",
    "    url = \"https://archive.ics.uci.edu/ml/machine-learning-databases/00279/SUSY.csv.gz\"\n",
    "    r = requests.get(url, stream=True)\n",
    "    with open(\"SUSY.csv.gz\", \"wb\") as f:\n",
    "        for chunk in r.iter_content(chunk_size=2048):\n",
    "            f.write(chunk)\n",
    "\n",
    "if not (os.path.exists(\"susy/train/\") and os.path.exists(\"susy/test\")):\n",
    "    df = pd.read_csv(\"SUSY.csv.gz\", header=None)\n",
    "\n",
    "    train = df.iloc[:-500000].rename(columns=str)\n",
    "    test = df.iloc[-500000:].rename(columns=str)\n",
    "\n",
    "    train = dd.from_pandas(train, npartitions=4)\n",
    "    test = dd.from_pandas(test, npartitions=4)\n",
    "\n",
    "    train.to_parquet(\"susy/test\")\n",
    "    test.to_parquet(\"susy/train\")"
   ]
  },
  {
   "cell_type": "markdown",
   "metadata": {},
   "source": [
    "As usual, we'll create or connect to a cluster."
   ]
  },
  {
   "cell_type": "code",
   "execution_count": 3,
   "metadata": {
    "collapsed": true
   },
   "outputs": [],
   "source": [
    "from dask.distributed import Client\n",
    "import dask.dataframe as dd\n",
    "\n",
    "client = Client()  # connect to cluster "
   ]
  },
  {
   "cell_type": "markdown",
   "metadata": {},
   "source": [
    "We've stored the training and test datasets as parquet files."
   ]
  },
  {
   "cell_type": "code",
   "execution_count": 4,
   "metadata": {
    "collapsed": true
   },
   "outputs": [],
   "source": [
    "train = dd.read_parquet(\"susy/train\")\n",
    "test = dd.read_parquet(\"susy/test\")\n",
    "\n",
    "y_train = train['0'] \n",
    "X_train = train.drop('0', axis=1)\n",
    "\n",
    "y_test = test['0']\n",
    "X_test = test.drop('0', axis=1)\n",
    "\n",
    "X_train, y_train, X_test, y_test = client.persist([X_train, y_train, X_test, y_test])"
   ]
  },
  {
   "cell_type": "code",
   "execution_count": 5,
   "metadata": {},
   "outputs": [
    {
     "data": {
      "text/html": [
       "<div>\n",
       "<style>\n",
       "    .dataframe thead tr:only-child th {\n",
       "        text-align: right;\n",
       "    }\n",
       "\n",
       "    .dataframe thead th {\n",
       "        text-align: left;\n",
       "    }\n",
       "\n",
       "    .dataframe tbody tr th {\n",
       "        vertical-align: top;\n",
       "    }\n",
       "</style>\n",
       "<table border=\"1\" class=\"dataframe\">\n",
       "  <thead>\n",
       "    <tr style=\"text-align: right;\">\n",
       "      <th></th>\n",
       "      <th>1</th>\n",
       "      <th>2</th>\n",
       "      <th>3</th>\n",
       "      <th>4</th>\n",
       "      <th>5</th>\n",
       "      <th>6</th>\n",
       "      <th>7</th>\n",
       "      <th>8</th>\n",
       "      <th>9</th>\n",
       "      <th>10</th>\n",
       "      <th>11</th>\n",
       "      <th>12</th>\n",
       "      <th>13</th>\n",
       "      <th>14</th>\n",
       "      <th>15</th>\n",
       "      <th>16</th>\n",
       "      <th>17</th>\n",
       "      <th>18</th>\n",
       "    </tr>\n",
       "    <tr>\n",
       "      <th>index</th>\n",
       "      <th></th>\n",
       "      <th></th>\n",
       "      <th></th>\n",
       "      <th></th>\n",
       "      <th></th>\n",
       "      <th></th>\n",
       "      <th></th>\n",
       "      <th></th>\n",
       "      <th></th>\n",
       "      <th></th>\n",
       "      <th></th>\n",
       "      <th></th>\n",
       "      <th></th>\n",
       "      <th></th>\n",
       "      <th></th>\n",
       "      <th></th>\n",
       "      <th></th>\n",
       "      <th></th>\n",
       "    </tr>\n",
       "  </thead>\n",
       "  <tbody>\n",
       "    <tr>\n",
       "      <th>4500000</th>\n",
       "      <td>2.088279</td>\n",
       "      <td>1.556223</td>\n",
       "      <td>-1.159801</td>\n",
       "      <td>2.564809</td>\n",
       "      <td>0.640849</td>\n",
       "      <td>1.341437</td>\n",
       "      <td>1.096579</td>\n",
       "      <td>0.797625</td>\n",
       "      <td>1.381939</td>\n",
       "      <td>-0.200281</td>\n",
       "      <td>2.162097</td>\n",
       "      <td>1.809158</td>\n",
       "      <td>0.742538</td>\n",
       "      <td>2.594079</td>\n",
       "      <td>1.958922</td>\n",
       "      <td>2.399706</td>\n",
       "      <td>0.465633</td>\n",
       "      <td>0.199338</td>\n",
       "    </tr>\n",
       "    <tr>\n",
       "      <th>4500001</th>\n",
       "      <td>0.483154</td>\n",
       "      <td>0.293696</td>\n",
       "      <td>-0.272460</td>\n",
       "      <td>0.474080</td>\n",
       "      <td>0.062757</td>\n",
       "      <td>-0.867734</td>\n",
       "      <td>1.142362</td>\n",
       "      <td>0.696387</td>\n",
       "      <td>1.714826</td>\n",
       "      <td>-0.288509</td>\n",
       "      <td>0.403597</td>\n",
       "      <td>0.897979</td>\n",
       "      <td>1.974393</td>\n",
       "      <td>1.888550</td>\n",
       "      <td>0.474009</td>\n",
       "      <td>1.420682</td>\n",
       "      <td>1.107179</td>\n",
       "      <td>0.043890</td>\n",
       "    </tr>\n",
       "    <tr>\n",
       "      <th>4500002</th>\n",
       "      <td>0.653066</td>\n",
       "      <td>1.396558</td>\n",
       "      <td>1.325271</td>\n",
       "      <td>0.656052</td>\n",
       "      <td>-1.034418</td>\n",
       "      <td>1.701688</td>\n",
       "      <td>1.034030</td>\n",
       "      <td>-0.227895</td>\n",
       "      <td>1.552204</td>\n",
       "      <td>-0.720430</td>\n",
       "      <td>1.204290</td>\n",
       "      <td>1.152103</td>\n",
       "      <td>0.848940</td>\n",
       "      <td>2.422719</td>\n",
       "      <td>1.227968</td>\n",
       "      <td>1.856319</td>\n",
       "      <td>1.393933</td>\n",
       "      <td>0.059517</td>\n",
       "    </tr>\n",
       "    <tr>\n",
       "      <th>4500003</th>\n",
       "      <td>2.212137</td>\n",
       "      <td>0.083248</td>\n",
       "      <td>1.662411</td>\n",
       "      <td>2.775866</td>\n",
       "      <td>0.437338</td>\n",
       "      <td>-0.114064</td>\n",
       "      <td>0.358706</td>\n",
       "      <td>-1.055752</td>\n",
       "      <td>0.141371</td>\n",
       "      <td>0.469900</td>\n",
       "      <td>2.065994</td>\n",
       "      <td>0.905919</td>\n",
       "      <td>0.389112</td>\n",
       "      <td>0.000000</td>\n",
       "      <td>2.056065</td>\n",
       "      <td>0.234328</td>\n",
       "      <td>0.594752</td>\n",
       "      <td>0.060977</td>\n",
       "    </tr>\n",
       "    <tr>\n",
       "      <th>4500004</th>\n",
       "      <td>0.578197</td>\n",
       "      <td>-1.303118</td>\n",
       "      <td>-1.496069</td>\n",
       "      <td>0.608464</td>\n",
       "      <td>-1.493001</td>\n",
       "      <td>0.379941</td>\n",
       "      <td>1.005586</td>\n",
       "      <td>-0.598012</td>\n",
       "      <td>1.509509</td>\n",
       "      <td>-0.098402</td>\n",
       "      <td>0.495630</td>\n",
       "      <td>0.813985</td>\n",
       "      <td>1.457386</td>\n",
       "      <td>0.842825</td>\n",
       "      <td>0.565840</td>\n",
       "      <td>0.973772</td>\n",
       "      <td>1.370470</td>\n",
       "      <td>0.127417</td>\n",
       "    </tr>\n",
       "  </tbody>\n",
       "</table>\n",
       "</div>"
      ],
      "text/plain": [
       "                1         2         3         4         5         6         7  \\\n",
       "index                                                                           \n",
       "4500000  2.088279  1.556223 -1.159801  2.564809  0.640849  1.341437  1.096579   \n",
       "4500001  0.483154  0.293696 -0.272460  0.474080  0.062757 -0.867734  1.142362   \n",
       "4500002  0.653066  1.396558  1.325271  0.656052 -1.034418  1.701688  1.034030   \n",
       "4500003  2.212137  0.083248  1.662411  2.775866  0.437338 -0.114064  0.358706   \n",
       "4500004  0.578197 -1.303118 -1.496069  0.608464 -1.493001  0.379941  1.005586   \n",
       "\n",
       "                8         9        10        11        12        13        14  \\\n",
       "index                                                                           \n",
       "4500000  0.797625  1.381939 -0.200281  2.162097  1.809158  0.742538  2.594079   \n",
       "4500001  0.696387  1.714826 -0.288509  0.403597  0.897979  1.974393  1.888550   \n",
       "4500002 -0.227895  1.552204 -0.720430  1.204290  1.152103  0.848940  2.422719   \n",
       "4500003 -1.055752  0.141371  0.469900  2.065994  0.905919  0.389112  0.000000   \n",
       "4500004 -0.598012  1.509509 -0.098402  0.495630  0.813985  1.457386  0.842825   \n",
       "\n",
       "               15        16        17        18  \n",
       "index                                            \n",
       "4500000  1.958922  2.399706  0.465633  0.199338  \n",
       "4500001  0.474009  1.420682  1.107179  0.043890  \n",
       "4500002  1.227968  1.856319  1.393933  0.059517  \n",
       "4500003  2.056065  0.234328  0.594752  0.060977  \n",
       "4500004  0.565840  0.973772  1.370470  0.127417  "
      ]
     },
     "execution_count": 5,
     "metadata": {},
     "output_type": "execute_result"
    }
   ],
   "source": [
    "X_train.head()"
   ]
  },
  {
   "cell_type": "code",
   "execution_count": 6,
   "metadata": {},
   "outputs": [
    {
     "data": {
      "text/plain": [
       "index\n",
       "4500000    0.0\n",
       "4500001    0.0\n",
       "4500002    0.0\n",
       "4500003    1.0\n",
       "4500004    0.0\n",
       "Name: 0, dtype: float64"
      ]
     },
     "execution_count": 6,
     "metadata": {},
     "output_type": "execute_result"
    }
   ],
   "source": [
    "y_train.head()"
   ]
  },
  {
   "cell_type": "markdown",
   "metadata": {},
   "source": [
    "Let's import the `dask_xboost` library."
   ]
  },
  {
   "cell_type": "code",
   "execution_count": 7,
   "metadata": {
    "collapsed": true
   },
   "outputs": [],
   "source": [
    "import dask_xgboost as dxgb\n",
    "import xgboost as xgb"
   ]
  },
  {
   "cell_type": "markdown",
   "metadata": {},
   "source": [
    "You define your model parameters as usual."
   ]
  },
  {
   "cell_type": "code",
   "execution_count": 8,
   "metadata": {},
   "outputs": [
    {
     "data": {
      "text/plain": [
       "<xgboost.core.Booster at 0x11fdbeda0>"
      ]
     },
     "execution_count": 8,
     "metadata": {},
     "output_type": "execute_result"
    }
   ],
   "source": [
    "params = {'objective': 'binary:logistic'}\n",
    "bst = dxgb.train(client, params, X_train, y_train)\n",
    "bst"
   ]
  },
  {
   "cell_type": "code",
   "execution_count": 13,
   "metadata": {},
   "outputs": [
    {
     "data": {
      "text/plain": [
       "Dask Series Structure:\n",
       "npartitions=4\n",
       "0          float32\n",
       "1125000        ...\n",
       "2250000        ...\n",
       "3375000        ...\n",
       "4499999        ...\n",
       "Name: predictions, dtype: float32\n",
       "Dask Name: _predict_part, 4 tasks"
      ]
     },
     "execution_count": 13,
     "metadata": {},
     "output_type": "execute_result"
    }
   ],
   "source": [
    "predictions = dxgb.predict(client, bst, X_test)\n",
    "predictions = client.persist(predictions)\n",
    "predictions"
   ]
  },
  {
   "cell_type": "markdown",
   "metadata": {},
   "source": [
    "The `bst` object is just a reguler `xgboost.Booster`, so all the familar methods are available."
   ]
  },
  {
   "cell_type": "code",
   "execution_count": 19,
   "metadata": {},
   "outputs": [
    {
     "data": {
      "image/png": "[encoded data removed]",
      "text/plain": [
       "<matplotlib.figure.Figure at 0x138c64a58>"
      ]
     },
     "metadata": {},
     "output_type": "display_data"
    }
   ],
   "source": [
    "fig, ax = plt.subplots(figsize=(12, 8))\n",
    "\n",
    "ax = xgb.plot_importance(bst, ax=ax, height=0.8)\n",
    "ax.grid(\"off\", axis=\"y\")"
   ]
  },
  {
   "cell_type": "code",
   "execution_count": 21,
   "metadata": {
    "collapsed": true
   },
   "outputs": [],
   "source": [
    "import matplotlib.pyplot as plt\n",
    "from sklearn.metrics import roc_curve, auc"
   ]
  },
  {
   "cell_type": "markdown",
   "metadata": {},
   "source": [
    "The `predictions` object is a `dask.Series`, so it can be used in place of a numpy array in most places."
   ]
  },
  {
   "cell_type": "code",
   "execution_count": 20,
   "metadata": {},
   "outputs": [
    {
     "data": {
      "image/png": "[encoded data removed]",
      "text/plain": [
       "<matplotlib.figure.Figure at 0x12a6fba20>"
      ]
     },
     "metadata": {},
     "output_type": "display_data"
    }
   ],
   "source": [
    "fig, ax = plt.subplots(figsize=(8, 8))\n",
    "fpr, tpr, _ = roc_curve(y_test, predictions)\n",
    "ax.plot(fpr, tpr, lw=3,\n",
    "        label='ROC Curve (ares = {:.2f})'.format(auc(fpr, tpr)))\n",
    "ax.plot([0, 1], [0, 1], 'k--', lw=2)\n",
    "\n",
    "ax.set(\n",
    "    xlim=(0, 1),\n",
    "    ylim=(0, 1),\n",
    "    title=\"ROC Curve\",\n",
    "    xlabel=\"False Positive Rate\",\n",
    "    ylabel=\"True Positive Rate\",\n",
    ")\n",
    "ax.legend();"
   ]
  }
 ],
 "metadata": {
  "kernelspec": {
   "display_name": "Python 3",
   "language": "python",
   "name": "python3"
  },
  "language_info": {
   "codemirror_mode": {
    "name": "ipython",
    "version": 3
   },
   "file_extension": ".py",
   "mimetype": "text/x-python",
   "name": "python",
   "nbconvert_exporter": "python",
   "pygments_lexer": "ipython3",
   "version": "3.6.1"
  }
 },
 "nbformat": 4,
 "nbformat_minor": 2
}
